{
 "cells": [
  {
   "cell_type": "code",
   "execution_count": 18,
   "metadata": {},
   "outputs": [],
   "source": [
    "import pandas as pd\n",
    "import matplotlib.pyplot as plt\n",
    "import numpy as np"
   ]
  },
  {
   "cell_type": "code",
   "execution_count": 19,
   "metadata": {},
   "outputs": [],
   "source": [
    "dat = pd.read_csv('https://raw.githubusercontent.com/Abhishek-st/deep-transfer-learning-crop-prediction/master/code/static_data_files/india_yields_raw.csv')"
   ]
  },
  {
   "cell_type": "code",
   "execution_count": 20,
   "metadata": {},
   "outputs": [
    {
     "data": {
      "text/html": [
       "<div>\n",
       "<style scoped>\n",
       "    .dataframe tbody tr th:only-of-type {\n",
       "        vertical-align: middle;\n",
       "    }\n",
       "\n",
       "    .dataframe tbody tr th {\n",
       "        vertical-align: top;\n",
       "    }\n",
       "\n",
       "    .dataframe thead th {\n",
       "        text-align: right;\n",
       "    }\n",
       "</style>\n",
       "<table border=\"1\" class=\"dataframe\">\n",
       "  <thead>\n",
       "    <tr style=\"text-align: right;\">\n",
       "      <th></th>\n",
       "      <th>Unnamed: 0</th>\n",
       "      <th>STATE</th>\n",
       "      <th>DISTRICT</th>\n",
       "      <th>YEAR</th>\n",
       "      <th>CROP</th>\n",
       "      <th>AREA</th>\n",
       "      <th>PRODUCTION</th>\n",
       "      <th>YIELD</th>\n",
       "      <th>SEASON</th>\n",
       "      <th>YIELD.RM.OUT</th>\n",
       "    </tr>\n",
       "  </thead>\n",
       "  <tbody>\n",
       "    <tr>\n",
       "      <th>0</th>\n",
       "      <td>1</td>\n",
       "      <td>ANDAMAN &amp; NICOBAR ISLANDS</td>\n",
       "      <td>Andaman</td>\n",
       "      <td>2001</td>\n",
       "      <td>RICE</td>\n",
       "      <td>NaN</td>\n",
       "      <td>27033.0</td>\n",
       "      <td>NaN</td>\n",
       "      <td>KHARIF</td>\n",
       "      <td>NaN</td>\n",
       "    </tr>\n",
       "    <tr>\n",
       "      <th>1</th>\n",
       "      <td>2</td>\n",
       "      <td>ANDAMAN &amp; NICOBAR ISLANDS</td>\n",
       "      <td>Andaman</td>\n",
       "      <td>2001</td>\n",
       "      <td>ARECANUT</td>\n",
       "      <td>NaN</td>\n",
       "      <td>5239.0</td>\n",
       "      <td>NaN</td>\n",
       "      <td>KHARIF</td>\n",
       "      <td>NaN</td>\n",
       "    </tr>\n",
       "    <tr>\n",
       "      <th>2</th>\n",
       "      <td>3</td>\n",
       "      <td>ANDAMAN &amp; NICOBAR ISLANDS</td>\n",
       "      <td>Andaman</td>\n",
       "      <td>2001</td>\n",
       "      <td>OTHER KHARIF PULSES</td>\n",
       "      <td>NaN</td>\n",
       "      <td>199.0</td>\n",
       "      <td>NaN</td>\n",
       "      <td>KHARIF</td>\n",
       "      <td>NaN</td>\n",
       "    </tr>\n",
       "    <tr>\n",
       "      <th>3</th>\n",
       "      <td>4</td>\n",
       "      <td>ANDAMAN &amp; NICOBAR ISLANDS</td>\n",
       "      <td>Andaman</td>\n",
       "      <td>2001</td>\n",
       "      <td>SWEET POTATO</td>\n",
       "      <td>NaN</td>\n",
       "      <td>5.0</td>\n",
       "      <td>NaN</td>\n",
       "      <td>WHOLE YEAR</td>\n",
       "      <td>NaN</td>\n",
       "    </tr>\n",
       "    <tr>\n",
       "      <th>4</th>\n",
       "      <td>5</td>\n",
       "      <td>ANDAMAN &amp; NICOBAR ISLANDS</td>\n",
       "      <td>Andaman</td>\n",
       "      <td>2000</td>\n",
       "      <td>COCONUT</td>\n",
       "      <td>NaN</td>\n",
       "      <td>23900.0</td>\n",
       "      <td>NaN</td>\n",
       "      <td>WHOLE YEAR</td>\n",
       "      <td>NaN</td>\n",
       "    </tr>\n",
       "  </tbody>\n",
       "</table>\n",
       "</div>"
      ],
      "text/plain": [
       "   Unnamed: 0                      STATE DISTRICT  YEAR                 CROP  \\\n",
       "0           1  ANDAMAN & NICOBAR ISLANDS  Andaman  2001                 RICE   \n",
       "1           2  ANDAMAN & NICOBAR ISLANDS  Andaman  2001             ARECANUT   \n",
       "2           3  ANDAMAN & NICOBAR ISLANDS  Andaman  2001  OTHER KHARIF PULSES   \n",
       "3           4  ANDAMAN & NICOBAR ISLANDS  Andaman  2001         SWEET POTATO   \n",
       "4           5  ANDAMAN & NICOBAR ISLANDS  Andaman  2000              COCONUT   \n",
       "\n",
       "   AREA  PRODUCTION  YIELD      SEASON  YIELD.RM.OUT  \n",
       "0   NaN     27033.0    NaN      KHARIF           NaN  \n",
       "1   NaN      5239.0    NaN      KHARIF           NaN  \n",
       "2   NaN       199.0    NaN      KHARIF           NaN  \n",
       "3   NaN         5.0    NaN  WHOLE YEAR           NaN  \n",
       "4   NaN     23900.0    NaN  WHOLE YEAR           NaN  "
      ]
     },
     "execution_count": 20,
     "metadata": {},
     "output_type": "execute_result"
    }
   ],
   "source": [
    "dat.head()"
   ]
  },
  {
   "cell_type": "code",
   "execution_count": 21,
   "metadata": {},
   "outputs": [
    {
     "name": "stdout",
     "output_type": "stream",
     "text": [
      "<class 'pandas.core.frame.DataFrame'>\n",
      "Int64Index: 191270 entries, 21 to 229666\n",
      "Data columns (total 10 columns):\n",
      "Unnamed: 0      191270 non-null int64\n",
      "STATE           191270 non-null object\n",
      "DISTRICT        191270 non-null object\n",
      "YEAR            191270 non-null int64\n",
      "CROP            191270 non-null object\n",
      "AREA            191270 non-null float64\n",
      "PRODUCTION      191270 non-null float64\n",
      "YIELD           191270 non-null float64\n",
      "SEASON          191270 non-null object\n",
      "YIELD.RM.OUT    191270 non-null float64\n",
      "dtypes: float64(4), int64(2), object(4)\n",
      "memory usage: 16.1+ MB\n"
     ]
    }
   ],
   "source": [
    "dat.dropna(inplace=True)\n",
    "dat.drop_duplicates(inplace=True)\n",
    "dat.info()"
   ]
  },
  {
   "cell_type": "code",
   "execution_count": 22,
   "metadata": {},
   "outputs": [
    {
     "data": {
      "text/html": [
       "<div>\n",
       "<style scoped>\n",
       "    .dataframe tbody tr th:only-of-type {\n",
       "        vertical-align: middle;\n",
       "    }\n",
       "\n",
       "    .dataframe tbody tr th {\n",
       "        vertical-align: top;\n",
       "    }\n",
       "\n",
       "    .dataframe thead th {\n",
       "        text-align: right;\n",
       "    }\n",
       "</style>\n",
       "<table border=\"1\" class=\"dataframe\">\n",
       "  <thead>\n",
       "    <tr style=\"text-align: right;\">\n",
       "      <th></th>\n",
       "      <th>Unnamed: 0</th>\n",
       "      <th>YEAR</th>\n",
       "      <th>AREA</th>\n",
       "      <th>PRODUCTION</th>\n",
       "      <th>YIELD</th>\n",
       "      <th>YIELD.RM.OUT</th>\n",
       "    </tr>\n",
       "  </thead>\n",
       "  <tbody>\n",
       "    <tr>\n",
       "      <th>count</th>\n",
       "      <td>6561.000000</td>\n",
       "      <td>6561.000000</td>\n",
       "      <td>6561.000000</td>\n",
       "      <td>6.561000e+03</td>\n",
       "      <td>6561.000000</td>\n",
       "      <td>6561.000000</td>\n",
       "    </tr>\n",
       "    <tr>\n",
       "      <th>mean</th>\n",
       "      <td>307344.987654</td>\n",
       "      <td>2003.584819</td>\n",
       "      <td>21644.659351</td>\n",
       "      <td>7.721957e+04</td>\n",
       "      <td>4.726325</td>\n",
       "      <td>4.726325</td>\n",
       "    </tr>\n",
       "    <tr>\n",
       "      <th>std</th>\n",
       "      <td>5203.849415</td>\n",
       "      <td>3.435802</td>\n",
       "      <td>71366.431986</td>\n",
       "      <td>2.545738e+05</td>\n",
       "      <td>13.153885</td>\n",
       "      <td>13.153885</td>\n",
       "    </tr>\n",
       "    <tr>\n",
       "      <th>min</th>\n",
       "      <td>300155.000000</td>\n",
       "      <td>1998.000000</td>\n",
       "      <td>1.000000</td>\n",
       "      <td>1.000000e+00</td>\n",
       "      <td>0.030000</td>\n",
       "      <td>0.030000</td>\n",
       "    </tr>\n",
       "    <tr>\n",
       "      <th>25%</th>\n",
       "      <td>302240.000000</td>\n",
       "      <td>2001.000000</td>\n",
       "      <td>135.000000</td>\n",
       "      <td>1.050000e+02</td>\n",
       "      <td>0.630000</td>\n",
       "      <td>0.630000</td>\n",
       "    </tr>\n",
       "    <tr>\n",
       "      <th>50%</th>\n",
       "      <td>307802.000000</td>\n",
       "      <td>2004.000000</td>\n",
       "      <td>768.000000</td>\n",
       "      <td>9.410000e+02</td>\n",
       "      <td>1.070000</td>\n",
       "      <td>1.070000</td>\n",
       "    </tr>\n",
       "    <tr>\n",
       "      <th>75%</th>\n",
       "      <td>312640.000000</td>\n",
       "      <td>2007.000000</td>\n",
       "      <td>5369.000000</td>\n",
       "      <td>1.292400e+04</td>\n",
       "      <td>2.310000</td>\n",
       "      <td>2.310000</td>\n",
       "    </tr>\n",
       "    <tr>\n",
       "      <th>max</th>\n",
       "      <td>315081.000000</td>\n",
       "      <td>2009.000000</td>\n",
       "      <td>718927.000000</td>\n",
       "      <td>3.434459e+06</td>\n",
       "      <td>121.880000</td>\n",
       "      <td>121.880000</td>\n",
       "    </tr>\n",
       "  </tbody>\n",
       "</table>\n",
       "</div>"
      ],
      "text/plain": [
       "          Unnamed: 0         YEAR           AREA    PRODUCTION        YIELD  \\\n",
       "count    6561.000000  6561.000000    6561.000000  6.561000e+03  6561.000000   \n",
       "mean   307344.987654  2003.584819   21644.659351  7.721957e+04     4.726325   \n",
       "std      5203.849415     3.435802   71366.431986  2.545738e+05    13.153885   \n",
       "min    300155.000000  1998.000000       1.000000  1.000000e+00     0.030000   \n",
       "25%    302240.000000  2001.000000     135.000000  1.050000e+02     0.630000   \n",
       "50%    307802.000000  2004.000000     768.000000  9.410000e+02     1.070000   \n",
       "75%    312640.000000  2007.000000    5369.000000  1.292400e+04     2.310000   \n",
       "max    315081.000000  2009.000000  718927.000000  3.434459e+06   121.880000   \n",
       "\n",
       "       YIELD.RM.OUT  \n",
       "count   6561.000000  \n",
       "mean       4.726325  \n",
       "std       13.153885  \n",
       "min        0.030000  \n",
       "25%        0.630000  \n",
       "50%        1.070000  \n",
       "75%        2.310000  \n",
       "max      121.880000  "
      ]
     },
     "execution_count": 22,
     "metadata": {},
     "output_type": "execute_result"
    }
   ],
   "source": [
    "dat=dat[dat['STATE']=='WEST BENGAL']\n",
    "dat.describe()"
   ]
  },
  {
   "cell_type": "code",
   "execution_count": 23,
   "metadata": {},
   "outputs": [
    {
     "data": {
      "text/html": [
       "<div>\n",
       "<style scoped>\n",
       "    .dataframe tbody tr th:only-of-type {\n",
       "        vertical-align: middle;\n",
       "    }\n",
       "\n",
       "    .dataframe tbody tr th {\n",
       "        vertical-align: top;\n",
       "    }\n",
       "\n",
       "    .dataframe thead th {\n",
       "        text-align: right;\n",
       "    }\n",
       "</style>\n",
       "<table border=\"1\" class=\"dataframe\">\n",
       "  <thead>\n",
       "    <tr style=\"text-align: right;\">\n",
       "      <th></th>\n",
       "      <th>YEAR</th>\n",
       "      <th>AREA</th>\n",
       "      <th>YIELD</th>\n",
       "    </tr>\n",
       "  </thead>\n",
       "  <tbody>\n",
       "    <tr>\n",
       "      <th>count</th>\n",
       "      <td>6561.000000</td>\n",
       "      <td>6561.000000</td>\n",
       "      <td>6561.000000</td>\n",
       "    </tr>\n",
       "    <tr>\n",
       "      <th>mean</th>\n",
       "      <td>2003.584819</td>\n",
       "      <td>21644.659351</td>\n",
       "      <td>4.726325</td>\n",
       "    </tr>\n",
       "    <tr>\n",
       "      <th>std</th>\n",
       "      <td>3.435802</td>\n",
       "      <td>71366.431986</td>\n",
       "      <td>13.153885</td>\n",
       "    </tr>\n",
       "    <tr>\n",
       "      <th>min</th>\n",
       "      <td>1998.000000</td>\n",
       "      <td>1.000000</td>\n",
       "      <td>0.030000</td>\n",
       "    </tr>\n",
       "    <tr>\n",
       "      <th>25%</th>\n",
       "      <td>2001.000000</td>\n",
       "      <td>135.000000</td>\n",
       "      <td>0.630000</td>\n",
       "    </tr>\n",
       "    <tr>\n",
       "      <th>50%</th>\n",
       "      <td>2004.000000</td>\n",
       "      <td>768.000000</td>\n",
       "      <td>1.070000</td>\n",
       "    </tr>\n",
       "    <tr>\n",
       "      <th>75%</th>\n",
       "      <td>2007.000000</td>\n",
       "      <td>5369.000000</td>\n",
       "      <td>2.310000</td>\n",
       "    </tr>\n",
       "    <tr>\n",
       "      <th>max</th>\n",
       "      <td>2009.000000</td>\n",
       "      <td>718927.000000</td>\n",
       "      <td>121.880000</td>\n",
       "    </tr>\n",
       "  </tbody>\n",
       "</table>\n",
       "</div>"
      ],
      "text/plain": [
       "              YEAR           AREA        YIELD\n",
       "count  6561.000000    6561.000000  6561.000000\n",
       "mean   2003.584819   21644.659351     4.726325\n",
       "std       3.435802   71366.431986    13.153885\n",
       "min    1998.000000       1.000000     0.030000\n",
       "25%    2001.000000     135.000000     0.630000\n",
       "50%    2004.000000     768.000000     1.070000\n",
       "75%    2007.000000    5369.000000     2.310000\n",
       "max    2009.000000  718927.000000   121.880000"
      ]
     },
     "execution_count": 23,
     "metadata": {},
     "output_type": "execute_result"
    }
   ],
   "source": [
    "dat.drop(['Unnamed: 0','YIELD.RM.OUT','PRODUCTION','STATE'],inplace=True, axis=1)\n",
    "dat.describe()"
   ]
  },
  {
   "cell_type": "code",
   "execution_count": 24,
   "metadata": {},
   "outputs": [],
   "source": [
    "dat=dat[dat['YIELD']<=10]\n",
    "dat=dat[dat['YIELD']>=0.5]"
   ]
  },
  {
   "cell_type": "code",
   "execution_count": 25,
   "metadata": {},
   "outputs": [],
   "source": [
    "dat.drop_duplicates(inplace=True)"
   ]
  },
  {
   "cell_type": "code",
   "execution_count": 9,
   "metadata": {},
   "outputs": [],
   "source": [
    "from sklearn.preprocessing import LabelEncoder"
   ]
  },
  {
   "cell_type": "code",
   "execution_count": 10,
   "metadata": {},
   "outputs": [],
   "source": [
    "encoder = LabelEncoder()\n",
    "dat['CROP'] = encoder.fit_transform(dat['CROP'])\n",
    "\n",
    "enc2 = LabelEncoder()\n",
    "dat['SEASON'] = enc2.fit_transform(dat['SEASON'])\n",
    "\n",
    "enc3 = LabelEncoder()\n",
    "dat['DISTRICT'] = enc3.fit_transform(dat['DISTRICT'])"
   ]
  },
  {
   "cell_type": "code",
   "execution_count": 11,
   "metadata": {},
   "outputs": [],
   "source": [
    "from sklearn.model_selection import train_test_split\n",
    "from sklearn.preprocessing import StandardScaler"
   ]
  },
  {
   "cell_type": "code",
   "execution_count": 12,
   "metadata": {},
   "outputs": [],
   "source": [
    "X = dat.drop(['YIELD'], axis=1)\n",
    "Y = dat['YIELD']"
   ]
  },
  {
   "cell_type": "code",
   "execution_count": 13,
   "metadata": {},
   "outputs": [],
   "source": [
    "x_train,x_test,y_train,y_test = train_test_split(X,Y,test_size=0.2,random_state=0)\n",
    "scaler = StandardScaler()\n",
    "x_train = scaler.fit_transform(x_train)\n",
    "x_test = scaler.transform(x_test)"
   ]
  },
  {
   "cell_type": "code",
   "execution_count": 14,
   "metadata": {},
   "outputs": [],
   "source": [
    "from sklearn.linear_model import LinearRegression"
   ]
  },
  {
   "cell_type": "code",
   "execution_count": 15,
   "metadata": {},
   "outputs": [
    {
     "data": {
      "text/plain": [
       "LinearRegression(copy_X=True, fit_intercept=True, n_jobs=None, normalize=False)"
      ]
     },
     "execution_count": 15,
     "metadata": {},
     "output_type": "execute_result"
    }
   ],
   "source": [
    "model=LinearRegression()\n",
    "model.fit(x_train,y_train)"
   ]
  },
  {
   "cell_type": "code",
   "execution_count": 16,
   "metadata": {},
   "outputs": [],
   "source": [
    "y_pred = model.predict(x_test)"
   ]
  },
  {
   "cell_type": "code",
   "execution_count": 17,
   "metadata": {},
   "outputs": [
    {
     "data": {
      "text/plain": [
       "0.022381510369351543"
      ]
     },
     "execution_count": 17,
     "metadata": {},
     "output_type": "execute_result"
    }
   ],
   "source": [
    "model.score(x_test,y_test)"
   ]
  },
  {
   "cell_type": "code",
   "execution_count": null,
   "metadata": {},
   "outputs": [],
   "source": []
  }
 ],
 "metadata": {
  "kernelspec": {
   "display_name": "Python 3",
   "language": "python",
   "name": "python3"
  },
  "language_info": {
   "codemirror_mode": {
    "name": "ipython",
    "version": 3
   },
   "file_extension": ".py",
   "mimetype": "text/x-python",
   "name": "python",
   "nbconvert_exporter": "python",
   "pygments_lexer": "ipython3",
   "version": "3.7.3"
  }
 },
 "nbformat": 4,
 "nbformat_minor": 2
}
